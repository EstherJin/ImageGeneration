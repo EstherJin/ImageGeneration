{
 "cells": [
  {
   "cell_type": "code",
   "execution_count": 30,
   "id": "distributed-grace",
   "metadata": {},
   "outputs": [],
   "source": [
    "import math\n",
    "import random\n",
    "\n",
    "import numpy as np\n",
    "import pandas as pd\n",
    "import matplotlib.pyplot as plt"
   ]
  },
  {
   "cell_type": "code",
   "execution_count": 31,
   "id": "sapphire-august",
   "metadata": {},
   "outputs": [],
   "source": [
    "data = np.loadtxt('gmm_dataset.csv', delimiter=\",\")\n",
    "n, d = data.shape"
   ]
  },
  {
   "cell_type": "code",
   "execution_count": 32,
   "id": "wired-tours",
   "metadata": {},
   "outputs": [],
   "source": [
    "# labels = []\n",
    "# for i in range(n):\n",
    "#     labels.append(np.random.dirichlet(np.ones(2),size=1)[0])\n",
    "# labels = np.array(labels)"
   ]
  },
  {
   "cell_type": "code",
   "execution_count": 39,
   "id": "growing-celtic",
   "metadata": {},
   "outputs": [],
   "source": [
    "# From below, we have that this function is of time complexity O(knd)\n",
    "# Space complexity is O(kd)\n",
    "def get_params_from_labels(frac_labels, X, k):\n",
    "    r_k = np.sum(frac_labels, axis=0) # This is size k\n",
    "    pi_k = r_k / X.shape[0] #This is also Size K\n",
    "\n",
    "    mu_k = [] # From below, this is an kxd array\n",
    "    S_k = [] # From below, this is an kxd array\n",
    "    for i in range(k): # This Loop happens k times\n",
    "        # For loop runs n times and multiplying a (scalar) by b (d x 1) is time d\n",
    "        u_k0 = np.array([a * b for a, b in zip(frac_labels[:,i], X)]) #Therefore, this line takes O(nd)\n",
    "        u_k = np.sum(u_k0, axis = 0) / r_k[i] # Sum over n elements to get an array of length d\n",
    "        mu_k.append(u_k)\n",
    "\n",
    "        # For loop runs n times and multiplying b by b.t is O(d)\n",
    "        s_k0 = np.array([a * b * b.T for a, b in zip(frac_labels[:,i], X)]) #Therefore, this line takes O(nd)\n",
    "        s_k1 = np.sum(s_k0, axis = 0) / r_k[i] # Sum over n elements to get an array of length d\n",
    "        s_k2 = s_k1 - mu_k[i] * mu_k[i].T\n",
    "        s_k_rep = np.where(s_k2 == 0, 0.00001, s_k2)\n",
    "        S_k.append(s_k1 - mu_k[i] * mu_k[i].T)\n",
    "    \n",
    "    return pi_k, mu_k, S_k"
   ]
  },
  {
   "cell_type": "code",
   "execution_count": 40,
   "id": "turned-aluminum",
   "metadata": {},
   "outputs": [],
   "source": [
    "# From below, we have that this function is of time complexity O(knd)\n",
    "# Space Complexity is O(kn)\n",
    "def get_labels_from_params(pi_k, mu_k, S_k, X, K):\n",
    "    labels = np.zeros((X.shape[0],K)) # Create a k by n array\n",
    "    \n",
    "    for k in range(K): # This Loop happens k times\n",
    "        p = pi_k[k]\n",
    "        d = (np.prod(S_k[k]) ** (-0.5)) # Multiplying all the d elements in S_K is O(d)\n",
    "\n",
    "        r_ik = p * d * np.exp(-0.5 * np.sum(np.multiply((np.subtract(X, mu_k[k]) * (1 / S_k[k])), np.subtract(X, mu_k[k])), axis = 1))\n",
    "\n",
    "        labels[:,k] = np.array(r_ik)\n",
    "\n",
    "    r_i = np.sum(labels, axis = 1) # Added over k to create an n sized array\n",
    "    labels = np.array([a / b for a, b in zip(labels, r_i)])\n",
    "    \n",
    "    return r_i, labels"
   ]
  },
  {
   "cell_type": "code",
   "execution_count": 41,
   "id": "metallic-water",
   "metadata": {},
   "outputs": [],
   "source": [
    "# Time complexity is O(max_iter*k*n*d)\n",
    "# Space complexity is O(max_iter + kn + kd)\n",
    "def gmm_em(X, k, max_iter=500, tol = 0.00001):\n",
    "    n, d = X.shape\n",
    "    \n",
    "    # Randommly initialize labels\n",
    "    labels = []\n",
    "    for i in range(n): # For loop run n times\n",
    "        labels.append(np.random.dirichlet(np.ones(k),size=1)[0]) #This take O(k)\n",
    "    labels = np.array(labels)\n",
    "    \n",
    "    pi_k, mu_k, S_k = get_params_from_labels(labels, X, k)\n",
    "    loss = [] #This is eventually an array of size O(max_iter)\n",
    "    \n",
    "    for iterat in range(max_iter): # Run at most max_iter times\n",
    "        print(f\"iterat, {iterat}\")\n",
    "        r_i, labels = get_labels_from_params(pi_k, mu_k, S_k, X, k) #O(knd) runtime and labels is O(kn) space\n",
    "        \n",
    "        #These operations are less than O(knd)\n",
    "        new_loss = -np.sum(np.array([np.log(r) for r in r_i]))\n",
    "        loss.append(new_loss) # Add a number in max_iter times\n",
    "        if len(loss) > 1 and abs(loss[-2] - new_loss) <= tol * new_loss:\n",
    "            break\n",
    "        \n",
    "        pi_k, mu_k, S_k = get_params_from_labels(labels, X, k) #O(knd) runtime and mu_k/S_k is O(kd) space\n",
    "    return pi_k, mu_k, S_k, loss"
   ]
  },
  {
   "cell_type": "code",
   "execution_count": 36,
   "id": "given-player",
   "metadata": {},
   "outputs": [],
   "source": [
    "pis = []\n",
    "mus = []\n",
    "Ss = []\n",
    "losses = []\n",
    "for k in range(1, 11):\n",
    "    pi_k, mu_k, S_k, loss = gmm_em(data, k)\n",
    "    \n",
    "    pis.append(pi_k)\n",
    "    mus.append([mat.round(2) for mat in mu_k])\n",
    "    Ss.append([mat.round(2) for mat in S_k])\n",
    "    losses.append(loss)"
   ]
  },
  {
   "cell_type": "code",
   "execution_count": 37,
   "id": "smooth-river",
   "metadata": {},
   "outputs": [
    {
     "data": {
      "text/plain": [
       "Text(0, 0.5, 'Final Model - Negative Log Likelihood')"
      ]
     },
     "execution_count": 37,
     "metadata": {},
     "output_type": "execute_result"
    },
    {
     "data": {
      "image/png": "[encoded data removed]",
      "text/plain": [
       "<Figure size 432x288 with 1 Axes>"
      ]
     },
     "metadata": {
      "needs_background": "light"
     },
     "output_type": "display_data"
    }
   ],
   "source": [
    "losses_k = [l[-1] for l in losses]\n",
    "\n",
    "plt.plot(range(1,11), losses_k)\n",
    "plt.xlabel('K')\n",
    "plt.ylabel('Final Model - Negative Log Likelihood')\n",
    "# plt.savefig(\"k_loss.png\")"
   ]
  },
  {
   "cell_type": "code",
   "execution_count": 11,
   "id": "utility-spotlight",
   "metadata": {},
   "outputs": [
    {
     "data": {
      "text/html": [
       "<div>\n",
       "<style scoped>\n",
       "    .dataframe tbody tr th:only-of-type {\n",
       "        vertical-align: middle;\n",
       "    }\n",
       "\n",
       "    .dataframe tbody tr th {\n",
       "        vertical-align: top;\n",
       "    }\n",
       "\n",
       "    .dataframe thead th {\n",
       "        text-align: right;\n",
       "    }\n",
       "</style>\n",
       "<table border=\"1\" class=\"dataframe\">\n",
       "  <thead>\n",
       "    <tr style=\"text-align: right;\">\n",
       "      <th></th>\n",
       "      <th>MixingWeights</th>\n",
       "      <th>MeanVectors</th>\n",
       "      <th>CovarianceDiagonals</th>\n",
       "    </tr>\n",
       "  </thead>\n",
       "  <tbody>\n",
       "    <tr>\n",
       "      <th>0</th>\n",
       "      <td>0.0996552</td>\n",
       "      <td>[1.69, 0.4, 0.99, 2.35, 1.89, -0.96, 0.89, -0.19, -0.09, 0.34, 0.04, 1.4, 0.74, 0.11, 0.42, 0.33, 1.46, -0.21, 0.29, -0.85]</td>\n",
       "      <td>[1.72, 1.19, 1.41, 0.89, 1.18, 2.05, 0.38, 0.68, 1.83, 1.54, 1.75, 0.88, 0.8, 1.98, 0.26, 0.83, 0.95, 0.14, 0.56, 0.92]</td>\n",
       "    </tr>\n",
       "    <tr>\n",
       "      <th>1</th>\n",
       "      <td>0.0999983</td>\n",
       "      <td>[-2.56, 0.6, 0.91, -0.71, 2.31, -1.44, 0.06, -0.18, 1.52, 1.47, 0.13, 0.41, -0.85, -1.98, -0.32, 0.18, 1.22, 1.21, -0.44, -0.32]</td>\n",
       "      <td>[0.36, 1.08, 0.28, 1.33, 0.69, 0.15, 0.41, 1.79, 0.76, 0.39, 0.65, 0.55, 0.61, 0.03, 0.66, 0.72, 0.61, 0.2, 0.38, 1.03]</td>\n",
       "    </tr>\n",
       "    <tr>\n",
       "      <th>2</th>\n",
       "      <td>0.126395</td>\n",
       "      <td>[-0.59, -0.43, -0.69, -1.71, 0.5, -0.39, -1.61, 0.66, -0.87, 0.16, 0.91, 0.06, 1.1, -1.21, 0.58, -0.71, -0.82, -0.47, -0.27, 0.06]</td>\n",
       "      <td>[0.47, 1.68, 1.13, 0.08, 1.04, 0.85, 1.09, 1.35, 1.25, 0.32, 0.73, 0.35, 0.66, 0.55, 1.12, 0.78, 0.87, 0.72, 0.39, 0.02]</td>\n",
       "    </tr>\n",
       "    <tr>\n",
       "      <th>3</th>\n",
       "      <td>0.173606</td>\n",
       "      <td>[-0.72, -0.38, -0.94, -1.72, -0.04, -0.36, -1.67, 0.35, -1.0, -0.06, 0.63, 0.11, 1.19, -1.21, 0.33, -0.7, -0.95, -0.65, -0.36, 0.05]</td>\n",
       "      <td>[0.51, 2.04, 0.86, 0.09, 1.22, 0.8, 0.9, 1.65, 1.01, 0.29, 0.95, 0.34, 0.96, 0.78, 1.01, 0.59, 0.67, 0.64, 0.48, 0.02]</td>\n",
       "    </tr>\n",
       "    <tr>\n",
       "      <th>4</th>\n",
       "      <td>0.199998</td>\n",
       "      <td>[-1.04, -1.39, -1.71, 1.92, -0.54, -0.44, -1.28, 0.77, -1.58, -0.22, -0.89, 0.39, -0.54, -1.17, -0.04, 0.44, 0.05, 0.3, -0.65, -0.35]</td>\n",
       "      <td>[1.6, 0.45, 0.17, 0.61, 2.49, 0.89, 0.87, 1.16, 1.38, 0.47, 0.07, 1.75, 0.75, 0.8, 0.1, 0.67, 1.13, 1.03, 1.14, 0.44]</td>\n",
       "    </tr>\n",
       "    <tr>\n",
       "      <th>5</th>\n",
       "      <td>0.300348</td>\n",
       "      <td>[-1.15, 0.94, 0.47, -1.55, 1.51, 1.93, 1.2, -0.18, -1.06, 1.09, -0.33, 1.23, 0.21, 0.97, 0.35, 0.72, 0.01, 1.81, 0.09, 0.4]</td>\n",
       "      <td>[0.35, 1.3, 0.66, 2.27, 0.63, 1.58, 1.13, 0.05, 0.75, 1.64, 1.29, 0.28, 0.04, 1.1, 0.51, 0.17, 0.78, 0.77, 2.13, 1.36]</td>\n",
       "    </tr>\n",
       "  </tbody>\n",
       "</table>\n",
       "</div>"
      ],
      "text/plain": [
       "  MixingWeights  \\\n",
       "0     0.0996552   \n",
       "1     0.0999983   \n",
       "2      0.126395   \n",
       "3      0.173606   \n",
       "4      0.199998   \n",
       "5      0.300348   \n",
       "\n",
       "                                                                                                                             MeanVectors  \\\n",
       "0            [1.69, 0.4, 0.99, 2.35, 1.89, -0.96, 0.89, -0.19, -0.09, 0.34, 0.04, 1.4, 0.74, 0.11, 0.42, 0.33, 1.46, -0.21, 0.29, -0.85]   \n",
       "1       [-2.56, 0.6, 0.91, -0.71, 2.31, -1.44, 0.06, -0.18, 1.52, 1.47, 0.13, 0.41, -0.85, -1.98, -0.32, 0.18, 1.22, 1.21, -0.44, -0.32]   \n",
       "2     [-0.59, -0.43, -0.69, -1.71, 0.5, -0.39, -1.61, 0.66, -0.87, 0.16, 0.91, 0.06, 1.1, -1.21, 0.58, -0.71, -0.82, -0.47, -0.27, 0.06]   \n",
       "3   [-0.72, -0.38, -0.94, -1.72, -0.04, -0.36, -1.67, 0.35, -1.0, -0.06, 0.63, 0.11, 1.19, -1.21, 0.33, -0.7, -0.95, -0.65, -0.36, 0.05]   \n",
       "4  [-1.04, -1.39, -1.71, 1.92, -0.54, -0.44, -1.28, 0.77, -1.58, -0.22, -0.89, 0.39, -0.54, -1.17, -0.04, 0.44, 0.05, 0.3, -0.65, -0.35]   \n",
       "5            [-1.15, 0.94, 0.47, -1.55, 1.51, 1.93, 1.2, -0.18, -1.06, 1.09, -0.33, 1.23, 0.21, 0.97, 0.35, 0.72, 0.01, 1.81, 0.09, 0.4]   \n",
       "\n",
       "                                                                                                        CovarianceDiagonals  \n",
       "0   [1.72, 1.19, 1.41, 0.89, 1.18, 2.05, 0.38, 0.68, 1.83, 1.54, 1.75, 0.88, 0.8, 1.98, 0.26, 0.83, 0.95, 0.14, 0.56, 0.92]  \n",
       "1   [0.36, 1.08, 0.28, 1.33, 0.69, 0.15, 0.41, 1.79, 0.76, 0.39, 0.65, 0.55, 0.61, 0.03, 0.66, 0.72, 0.61, 0.2, 0.38, 1.03]  \n",
       "2  [0.47, 1.68, 1.13, 0.08, 1.04, 0.85, 1.09, 1.35, 1.25, 0.32, 0.73, 0.35, 0.66, 0.55, 1.12, 0.78, 0.87, 0.72, 0.39, 0.02]  \n",
       "3    [0.51, 2.04, 0.86, 0.09, 1.22, 0.8, 0.9, 1.65, 1.01, 0.29, 0.95, 0.34, 0.96, 0.78, 1.01, 0.59, 0.67, 0.64, 0.48, 0.02]  \n",
       "4     [1.6, 0.45, 0.17, 0.61, 2.49, 0.89, 0.87, 1.16, 1.38, 0.47, 0.07, 1.75, 0.75, 0.8, 0.1, 0.67, 1.13, 1.03, 1.14, 0.44]  \n",
       "5    [0.35, 1.3, 0.66, 2.27, 0.63, 1.58, 1.13, 0.05, 0.75, 1.64, 1.29, 0.28, 0.04, 1.1, 0.51, 0.17, 0.78, 0.77, 2.13, 1.36]  "
      ]
     },
     "metadata": {},
     "output_type": "display_data"
    }
   ],
   "source": [
    "k_chose = 6\n",
    "best_k_df = pd.DataFrame(np.array([pis[k_chose - 1], mus[k_chose - 1], Ss[k_chose - 1]], dtype=object).T, columns = ['MixingWeights','MeanVectors','CovarianceDiagonals']).sort_values(by=\"MixingWeights\").reset_index(drop=True)\n",
    "\n",
    "pd.set_option('display.width', None)\n",
    "pd.set_option('display.max_colwidth', None)\n",
    "display(best_k_df)"
   ]
  },
  {
   "cell_type": "code",
   "execution_count": 30,
   "id": "complete-parts",
   "metadata": {},
   "outputs": [
    {
     "ename": "ModuleNotFoundError",
     "evalue": "No module named 'tensorflow'",
     "output_type": "error",
     "traceback": [
      "\u001b[1;31m---------------------------------------------------------------------------\u001b[0m",
      "\u001b[1;31mModuleNotFoundError\u001b[0m                       Traceback (most recent call last)",
      "\u001b[1;32m<ipython-input-30-4f2397fd935b>\u001b[0m in \u001b[0;36m<module>\u001b[1;34m\u001b[0m\n\u001b[1;32m----> 1\u001b[1;33m \u001b[1;32mfrom\u001b[0m \u001b[0mtensorflow\u001b[0m\u001b[1;33m.\u001b[0m\u001b[0mkeras\u001b[0m\u001b[1;33m.\u001b[0m\u001b[0mdatasets\u001b[0m \u001b[1;32mimport\u001b[0m \u001b[0mmnist\u001b[0m\u001b[1;33m\u001b[0m\u001b[0m\n\u001b[0m\u001b[0;32m      2\u001b[0m \u001b[1;33m\u001b[0m\u001b[0m\n\u001b[0;32m      3\u001b[0m \u001b[1;33m(\u001b[0m\u001b[0mx_train\u001b[0m\u001b[1;33m,\u001b[0m \u001b[0my_train\u001b[0m\u001b[1;33m)\u001b[0m\u001b[1;33m,\u001b[0m \u001b[1;33m(\u001b[0m\u001b[0mx_test\u001b[0m\u001b[1;33m,\u001b[0m \u001b[0my_test\u001b[0m\u001b[1;33m)\u001b[0m \u001b[1;33m=\u001b[0m \u001b[0mmnist\u001b[0m\u001b[1;33m.\u001b[0m\u001b[0mload_data\u001b[0m\u001b[1;33m(\u001b[0m\u001b[1;33m)\u001b[0m\u001b[1;33m\u001b[0m\u001b[0m\n\u001b[0;32m      4\u001b[0m \u001b[1;33m\u001b[0m\u001b[0m\n\u001b[0;32m      5\u001b[0m \u001b[0mx_train\u001b[0m \u001b[1;33m=\u001b[0m \u001b[0mnp\u001b[0m\u001b[1;33m.\u001b[0m\u001b[0marray\u001b[0m\u001b[1;33m(\u001b[0m\u001b[1;33m[\u001b[0m\u001b[0mnp\u001b[0m\u001b[1;33m.\u001b[0m\u001b[0mravel\u001b[0m\u001b[1;33m(\u001b[0m\u001b[0mtrain\u001b[0m\u001b[1;33m)\u001b[0m \u001b[1;32mfor\u001b[0m \u001b[0mtrain\u001b[0m \u001b[1;32min\u001b[0m \u001b[0mx_train\u001b[0m\u001b[1;33m]\u001b[0m\u001b[1;33m)\u001b[0m\u001b[1;33m\u001b[0m\u001b[0m\n",
      "\u001b[1;31mModuleNotFoundError\u001b[0m: No module named 'tensorflow'"
     ]
    }
   ],
   "source": [
    "from tensorflow.keras.datasets import mnist\n",
    "\n",
    "(x_train, y_train), (x_test, y_test) = mnist.load_data()\n",
    "\n",
    "x_train = np.array([np.ravel(train) for train in x_train])\n",
    "x_test = np.array([np.ravel(test) for test in x_test])"
   ]
  },
  {
   "cell_type": "code",
   "execution_count": null,
   "id": "pediatric-nancy",
   "metadata": {},
   "outputs": [],
   "source": [
    "k = 5\n",
    "X = x_train[y_train == 0]\n",
    "gmm_em(X, k, max_iter=500, tol = 0.00001)"
   ]
  },
  {
   "cell_type": "code",
   "execution_count": 14,
   "id": "differential-communication",
   "metadata": {},
   "outputs": [],
   "source": [
    "k = 2\n",
    "labels = []\n",
    "for i in range(n): # For loop run n times\n",
    "    labels.append(np.random.dirichlet(np.ones(k),size=1)[0]) #This take O(k)\n",
    "labels = np.array(labels)\n",
    "\n",
    "pi_k, mu_k, S_k = get_params_from_labels(labels, data, k)"
   ]
  },
  {
   "cell_type": "code",
   "execution_count": null,
   "id": "cardiac-destination",
   "metadata": {},
   "outputs": [],
   "source": [
    "for i in range(X.shape[0]): # This Loop happens n times\n",
    "    zippy = zip(X[i] - mu_k[k], (1 / S_k[k])) # All O(d) operations\n",
    "    thing0 = np.array([a * b for a, b in zippy]) # Scalar multiplication of for loop run d times\n",
    "    thing = p * d  * math.exp(-0.5 * np.matmul(thing0, (X[i] - mu_k[k]))) # Matric multiplication of [1xd] and [dx1] is O(d)\n",
    "    r_ik.append(thing)"
   ]
  },
  {
   "cell_type": "code",
   "execution_count": null,
   "id": "knowing-north",
   "metadata": {},
   "outputs": [],
   "source": []
  },
  {
   "cell_type": "code",
   "execution_count": 29,
   "id": "faced-transsexual",
   "metadata": {},
   "outputs": [
    {
     "data": {
      "text/plain": [
       "array([4.46645888e-07, 2.95304127e-05, 2.72491560e-05, ...,\n",
       "       3.49561764e-05, 9.08692015e-06, 2.59379834e-05])"
      ]
     },
     "execution_count": 29,
     "metadata": {},
     "output_type": "execute_result"
    }
   ],
   "source": [
    "p * d * np.exp(-0.5 * np.sum(np.multiply((np.subtract(data, mu_k[0]) * (1 / S_k[0])), np.subtract(data, mu_k[0])), axis = 1))"
   ]
  },
  {
   "cell_type": "code",
   "execution_count": 26,
   "id": "literary-dynamics",
   "metadata": {},
   "outputs": [
    {
     "data": {
      "text/plain": [
       "29.24299950757422"
      ]
     },
     "execution_count": 26,
     "metadata": {},
     "output_type": "execute_result"
    }
   ],
   "source": [
    "np.sum((np.subtract(data, mu_k[0]) * (1 / S_k[0]))[0] * np.subtract(data, mu_k[0])[0])"
   ]
  },
  {
   "cell_type": "code",
   "execution_count": 24,
   "id": "scheduled-document",
   "metadata": {},
   "outputs": [
    {
     "data": {
      "text/plain": [
       "29.24299950757422"
      ]
     },
     "execution_count": 24,
     "metadata": {},
     "output_type": "execute_result"
    }
   ],
   "source": [
    "np.matmul((np.subtract(data, mu_k[0]) * (1 / S_k[0]))[0] , np.subtract(data, mu_k[0])[0])"
   ]
  },
  {
   "cell_type": "code",
   "execution_count": null,
   "id": "caroline-extra",
   "metadata": {},
   "outputs": [],
   "source": []
  }
 ],
 "metadata": {
  "kernelspec": {
   "display_name": "Python 3",
   "language": "python",
   "name": "python3"
  },
  "language_info": {
   "codemirror_mode": {
    "name": "ipython",
    "version": 3
   },
   "file_extension": ".py",
   "mimetype": "text/x-python",
   "name": "python",
   "nbconvert_exporter": "python",
   "pygments_lexer": "ipython3",
   "version": "3.6.4"
  }
 },
 "nbformat": 4,
 "nbformat_minor": 5
}
